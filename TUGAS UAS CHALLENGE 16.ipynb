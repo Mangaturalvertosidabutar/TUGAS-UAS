{
 "cells": [
  {
   "cell_type": "code",
   "execution_count": 7,
   "id": "2dbbc4b9",
   "metadata": {},
   "outputs": [
    {
     "name": "stdout",
     "output_type": "stream",
     "text": [
      "5915 1712 4555 51\n",
      "<__main__.MasterCardMixin object at 0x00000244C9D2A4C0>\n"
     ]
    }
   ],
   "source": [
    "import random\n",
    "\n",
    "class CreditCard:\n",
    "    def __init__(self):\n",
    "        self.generate()\n",
    "\n",
    "    def generate(self):\n",
    "        # Generate the middle 14 digits of the credit card\n",
    "        middle_digits = [random.randint(0, 9) for _ in range(14)]\n",
    "        self.number = self.format_number([4, 4, 4, 4], middle_digits)\n",
    "\n",
    "    def format_number(self, blocks, digits):\n",
    "        formatted_number = \"\"\n",
    "        for block in blocks:\n",
    "            formatted_number += \"\".join(map(str, digits[:block])) + \" \"\n",
    "            digits = digits[block:]\n",
    "        return formatted_number.strip()\n",
    "\n",
    "class VisaMixin:\n",
    "    def generate(self):\n",
    "        # Prepend '42' to the generated middle digits\n",
    "        super().generate()\n",
    "        self.number = \"\" + self.number\n",
    "\n",
    "class MasterCardMixin:\n",
    "    def generate(self):\n",
    "        # Prepend '52' to the generated middle digits\n",
    "        super().generate()\n",
    "        self.number = \"52 \" + self.number\n",
    "\n",
    "class ValidMixin:\n",
    "    def generate(self):\n",
    "        # Generate the checksum using Luhn's algorithm\n",
    "        super().generate()\n",
    "        checksum = self.calculate_checksum(self.number)\n",
    "        self.number = self.number + str(checksum)\n",
    "\n",
    "    def calculate_checksum(self, number):\n",
    "        cumulative_sum = 0\n",
    "        for i in range(len(number) - 2, -1, -1):\n",
    "            digit = int(number[i])\n",
    "            if (len(number) - i) % 2 == 0:\n",
    "                double = digit * 2\n",
    "                cumulative_sum += double // 10 + double % 10 if double > 9 else double\n",
    "            else:\n",
    "                cumulative_sum += digit\n",
    "        return (10 - cumulative_sum % 10) % 10\n",
    "\n",
    "# Contoh Penggunaan\n",
    "class Visa(VisaMixin, CreditCard):\n",
    "    pass\n",
    "\n",
    "class MasterCard(ValidMixin, MasterCardMixin, CreditCard):\n",
    "    pass\n",
    "\n",
    "visa_card = Visa()\n",
    "print(visa_card.number)\n",
    "\n",
    "mastercard = MasterCardMixin()\n",
    "print(mastercard)"
   ]
  },
  {
   "cell_type": "code",
   "execution_count": null,
   "id": "256ad962",
   "metadata": {},
   "outputs": [],
   "source": []
  }
 ],
 "metadata": {
  "kernelspec": {
   "display_name": "Python 3 (ipykernel)",
   "language": "python",
   "name": "python3"
  },
  "language_info": {
   "codemirror_mode": {
    "name": "ipython",
    "version": 3
   },
   "file_extension": ".py",
   "mimetype": "text/x-python",
   "name": "python",
   "nbconvert_exporter": "python",
   "pygments_lexer": "ipython3",
   "version": "3.9.12"
  }
 },
 "nbformat": 4,
 "nbformat_minor": 5
}
