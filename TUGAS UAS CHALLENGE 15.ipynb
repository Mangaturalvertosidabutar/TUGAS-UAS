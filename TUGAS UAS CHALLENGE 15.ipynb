{
 "cells": [
  {
   "cell_type": "code",
   "execution_count": 1,
   "id": "fb4d6e22",
   "metadata": {},
   "outputs": [
    {
     "name": "stdout",
     "output_type": "stream",
     "text": [
      "Applicant Pool\n",
      "(Score | ID)\n",
      "--------------------\n",
      "10.0 - 6937\n",
      "2.0 - 1234\n"
     ]
    }
   ],
   "source": [
    "from collections.abc import Sequence\n",
    "\n",
    "class JobApplicant:\n",
    "    def __init__(self, applicant_id, years_experience, is_recommended, first_interview_score, second_interview_score):\n",
    "        self.applicant_id = applicant_id\n",
    "        self.years_experience = years_experience\n",
    "        self.is_recommended = is_recommended\n",
    "        self.first_interview_score = first_interview_score\n",
    "        self.second_interview_score = second_interview_score\n",
    "\n",
    "class JobApplicantPool(Sequence):\n",
    "    def __init__(self):\n",
    "        self.applicants = []\n",
    "\n",
    "    def __getitem__(self, index):\n",
    "        return self.applicants[index]\n",
    "\n",
    "    def __len__(self):\n",
    "        return len(self.applicants)\n",
    "\n",
    "    @property\n",
    "    def pool(self):\n",
    "        sorted_applicants = sorted(self.applicants, key=self._calculate_score, reverse=True)\n",
    "        return sorted_applicants\n",
    "\n",
    "    def add(self, applicant):\n",
    "        self.applicants.append(applicant)\n",
    "\n",
    "    def _calculate_score(self, applicant):\n",
    "        return round(\n",
    "            applicant.years_experience / 2 +\n",
    "            1 if applicant.is_recommended else 0 +\n",
    "            applicant.first_interview_score / 2 +\n",
    "            applicant.second_interview_score,\n",
    "            2\n",
    "        )\n",
    "\n",
    "    def __repr__(self):\n",
    "        header = \"Applicant Pool\\n(Score | ID)\\n--------------------\"\n",
    "        applicant_list = [f\"{self._calculate_score(applicant)} - {applicant.applicant_id}\" for applicant in self.pool]\n",
    "        return f\"{header}\\n{chr(10).join(applicant_list)}\"\n",
    "\n",
    "\n",
    "ja1 = JobApplicant(applicant_id=\"1234\", years_experience=2, is_recommended=True, first_interview_score=2.2, second_interview_score=3.1)\n",
    "ja2 = JobApplicant(\"6937\", 12, False, 1.2, 9.4)\n",
    "\n",
    "jab = JobApplicantPool()\n",
    "\n",
    "jab.add(ja1)\n",
    "jab.add(ja2)\n",
    "\n",
    "print(jab)"
   ]
  },
  {
   "cell_type": "code",
   "execution_count": null,
   "id": "72191c1b",
   "metadata": {},
   "outputs": [],
   "source": []
  }
 ],
 "metadata": {
  "kernelspec": {
   "display_name": "Python 3 (ipykernel)",
   "language": "python",
   "name": "python3"
  },
  "language_info": {
   "codemirror_mode": {
    "name": "ipython",
    "version": 3
   },
   "file_extension": ".py",
   "mimetype": "text/x-python",
   "name": "python",
   "nbconvert_exporter": "python",
   "pygments_lexer": "ipython3",
   "version": "3.9.12"
  }
 },
 "nbformat": 4,
 "nbformat_minor": 5
}
